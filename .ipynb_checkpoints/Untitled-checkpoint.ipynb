{
 "cells": [
  {
   "cell_type": "code",
   "execution_count": 27,
   "metadata": {
    "collapsed": false
   },
   "outputs": [
    {
     "name": "stdout",
     "output_type": "stream",
     "text": [
      "0 4785074604081152 root 0\n",
      "1 5629499534213120 root 0\n",
      "2 5066549580791808 5629499534213120 1\n",
      "3 5910974510923776 root 0\n",
      "4 6192449487634432 5910974510923776 1\n"
     ]
    }
   ],
   "source": [
    "data = \"\"\"list_1[5629499534213120]=root&list_1[5066549580791808]=root&list_1[6192449487634432]=root&list_1[4785074604081152]=6192449487634432\"\"\"\n",
    "data = \"\"\"list_1[5629499534213120]=root&list_1[6192449487634432]=5629499534213120&list_1[4785074604081152]=5629499534213120&list_1[5066549580791808]=root\"\"\"\n",
    "data = \"\"\"list_1[5629499534213120]=root&list_1[6192449487634432]=5629499534213120&list_1[4785074604081152]=6192449487634432&list_1[5066549580791808]=6192449487634432\"\"\"\n",
    "data = \"\"\"list_1[4785074604081152]=root&list_2[5629499534213120]=root&list_2[5066549580791808]=5629499534213120&list_2[5910974510923776]=root&list_2[6192449487634432]=5910974510923776\"\"\"\n",
    "data = data.replace('list_1[', '').replace('list_2[', '').replace(']', '')\n",
    "\n",
    "\n",
    "result = dict()\n",
    "for idx, d in enumerate(data.split('&')):\n",
    "    key, value = d.split('=')\n",
    "    if value == 'root':\n",
    "        depth = 0\n",
    "    else:\n",
    "        depth = result[value]+1\n",
    "    result[key] = depth\n",
    "    print idx, key, value, depth"
   ]
  },
  {
   "cell_type": "code",
   "execution_count": null,
   "metadata": {
    "collapsed": true
   },
   "outputs": [],
   "source": []
  }
 ],
 "metadata": {
  "kernelspec": {
   "display_name": "Python 2",
   "language": "python",
   "name": "python2"
  },
  "language_info": {
   "codemirror_mode": {
    "name": "ipython",
    "version": 2
   },
   "file_extension": ".py",
   "mimetype": "text/x-python",
   "name": "python",
   "nbconvert_exporter": "python",
   "pygments_lexer": "ipython2",
   "version": "2.7.11"
  }
 },
 "nbformat": 4,
 "nbformat_minor": 0
}
